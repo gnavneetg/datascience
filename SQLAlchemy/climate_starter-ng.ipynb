{
 "cells": [
  {
   "cell_type": "code",
   "execution_count": 2,
   "metadata": {},
   "outputs": [],
   "source": [
    "%matplotlib inline\n",
    "from matplotlib import style\n",
    "style.use('fivethirtyeight')\n",
    "import matplotlib.pyplot as plt\n",
    "import sqlite3"
   ]
  },
  {
   "cell_type": "code",
   "execution_count": 3,
   "metadata": {},
   "outputs": [],
   "source": [
    "import numpy as np\n",
    "import pandas as pd"
   ]
  },
  {
   "cell_type": "code",
   "execution_count": 4,
   "metadata": {},
   "outputs": [],
   "source": [
    "import datetime as dt\n",
    "from flask import Flask, jsonify"
   ]
  },
  {
   "cell_type": "markdown",
   "metadata": {},
   "source": [
    "# Reflect Tables into SQLAlchemy ORM"
   ]
  },
  {
   "cell_type": "code",
   "execution_count": 5,
   "metadata": {},
   "outputs": [],
   "source": [
    "# Python SQL toolkit and Object Relational Mapper\n",
    "conn = sqlite3.connect(\"hawaii.sqlite\")"
   ]
  },
  {
   "cell_type": "code",
   "execution_count": 6,
   "metadata": {},
   "outputs": [
    {
     "name": "stdout",
     "output_type": "stream",
     "text": [
      "('CREATE TABLE measurement (\\n\\tid INTEGER NOT NULL, \\n\\tstation TEXT, \\n\\tdate TEXT, \\n\\tprcp FLOAT, \\n\\ttobs FLOAT, \\n\\tPRIMARY KEY (id)\\n)',)\n"
     ]
    }
   ],
   "source": [
    "cur = conn.cursor()\n",
    "#obtain details of the schema/table format from table named garbage_collection\n",
    "cur.execute(\"SELECT sql FROM sqlite_master WHERE name='measurement'\")\n",
    "mesur = cur.fetchall()\n",
    " \n",
    "for mesurDef in mesur:\n",
    "    print(mesurDef)\n",
    "    \n"
   ]
  },
  {
   "cell_type": "code",
   "execution_count": 7,
   "metadata": {},
   "outputs": [],
   "source": [
    "cur = conn.cursor()\n",
    "#obtain details of the schema/table format from table named garbage_collection\n",
    "cur.execute(\"SELECT * FROM measurement\")\n",
    "mesData = cur.fetchall()\n",
    " \n",
    "#for mesDef in mesData:\n",
    " #   print(mesDef)"
   ]
  },
  {
   "cell_type": "code",
   "execution_count": 8,
   "metadata": {},
   "outputs": [
    {
     "name": "stdout",
     "output_type": "stream",
     "text": [
      "('CREATE TABLE station (\\n\\tid INTEGER NOT NULL, \\n\\tstation TEXT, \\n\\tname TEXT, \\n\\tlatitude FLOAT, \\n\\tlongitude FLOAT, \\n\\televation FLOAT, \\n\\tPRIMARY KEY (id)\\n)',)\n"
     ]
    }
   ],
   "source": [
    "cur = conn.cursor()\n",
    "#obtain details of the schema/table format from table named garbage_collection\n",
    "cur.execute(\"SELECT sql FROM sqlite_master WHERE name='station'\")\n",
    "stat = cur.fetchall()\n",
    "\n",
    "for statDef in stat:\n",
    "    print(statDef)"
   ]
  },
  {
   "cell_type": "code",
   "execution_count": 9,
   "metadata": {
    "scrolled": true
   },
   "outputs": [
    {
     "name": "stdout",
     "output_type": "stream",
     "text": [
      "(1, 'USC00519397', 'WAIKIKI 717.2, HI US', 21.2716, -157.8168, 3.0)\n",
      "(2, 'USC00513117', 'KANEOHE 838.1, HI US', 21.4234, -157.8015, 14.6)\n",
      "(3, 'USC00514830', 'KUALOA RANCH HEADQUARTERS 886.9, HI US', 21.5213, -157.8374, 7.0)\n",
      "(4, 'USC00517948', 'PEARL CITY, HI US', 21.3934, -157.9751, 11.9)\n",
      "(5, 'USC00518838', 'UPPER WAHIAWA 874.3, HI US', 21.4992, -158.0111, 306.6)\n",
      "(6, 'USC00519523', 'WAIMANALO EXPERIMENTAL FARM, HI US', 21.33556, -157.71139, 19.5)\n",
      "(7, 'USC00519281', 'WAIHEE 837.5, HI US', 21.45167, -157.84888999999998, 32.9)\n",
      "(8, 'USC00511918', 'HONOLULU OBSERVATORY 702.2, HI US', 21.3152, -157.9992, 0.9)\n",
      "(9, 'USC00516128', 'MANOA LYON ARBO 785.2, HI US', 21.3331, -157.8025, 152.4)\n"
     ]
    }
   ],
   "source": [
    "cur = conn.cursor()\n",
    "#obtain details of the schema/table format from table named garbage_collection\n",
    "cur.execute(\"SELECT * FROM station\")\n",
    "stat = cur.fetchall()\n",
    "\n",
    "for statData in stat:\n",
    "    print(statData)"
   ]
  },
  {
   "cell_type": "code",
   "execution_count": 10,
   "metadata": {},
   "outputs": [
    {
     "name": "stdout",
     "output_type": "stream",
     "text": [
      "            prcp\n",
      "2016-08-24  0.08\n",
      "2016-08-24  2.15\n",
      "2016-08-24  2.28\n",
      "2016-08-24  0.00\n",
      "2016-08-24  1.22\n",
      "2016-08-24  2.15\n",
      "2016-08-24  1.45\n",
      "2016-08-25  0.08\n",
      "2016-08-25  0.08\n",
      "2016-08-25  0.00\n",
      "2016-08-25  0.00\n",
      "2016-08-25  0.21\n",
      "2016-08-25  0.06\n",
      "2016-08-25  0.11\n",
      "2016-08-26  0.00\n",
      "2016-08-26  0.03\n",
      "2016-08-26  0.02\n",
      "2016-08-26  0.04\n",
      "2016-08-26  0.00\n",
      "2016-08-26  0.01\n"
     ]
    }
   ],
   "source": [
    "# Save references to each table\n",
    "cur = conn.cursor()\n",
    "#obtain details of the schema/table format from table named garbage_collection\n",
    "cur.execute(\"SELECT measurement.date, measurement.prcp FROM measurement Where (measurement.date >= '2016-08-24') and (measurement.date <= '2017-08-23') order by measurement.date \")\n",
    "data = {'date': [], 'precip': []}\n",
    "mesur = cur.fetchall()\n",
    "df = []\n",
    "for mesurData in mesur:\n",
    "    data['date'].append(mesurData[0])\n",
    "    data['precip'].append(mesurData[1])\n",
    "    \n",
    "df = pd.DataFrame(data['precip'], columns = ['prcp'], index = data['date'])\n",
    "df = df.replace(np.nan, 0)\n",
    "print(df.head(20))"
   ]
  },
  {
   "cell_type": "markdown",
   "metadata": {},
   "source": [
    "# Exploratory Climate Analysis"
   ]
  },
  {
   "cell_type": "code",
   "execution_count": 11,
   "metadata": {},
   "outputs": [
    {
     "data": {
      "text/plain": [
       "<Figure size 720x360 with 0 Axes>"
      ]
     },
     "metadata": {},
     "output_type": "display_data"
    }
   ],
   "source": [
    "#create bar plot as usual\n",
    "plt.figure(figsize=(10,5))\n",
    "y = df['prcp'].tolist()\n",
    "x = np.arange(0,len(df['prcp']),1)"
   ]
  },
  {
   "cell_type": "code",
   "execution_count": 12,
   "metadata": {},
   "outputs": [],
   "source": [
    "# Define X-tick labels (months) and their positioning\n",
    "month_total = len(y)\n",
    "month_step_xticks = int((month_total / 12)*1.03)\n",
    "plt.ylim = max(y) + 1\n",
    "tick_locations = [x+55 for x in range(1, month_total, month_step_xticks)]"
   ]
  },
  {
   "cell_type": "code",
   "execution_count": 13,
   "metadata": {},
   "outputs": [
    {
     "data": {
      "text/plain": [
       "<matplotlib.legend.Legend at 0x225876880f0>"
      ]
     },
     "execution_count": 13,
     "metadata": {},
     "output_type": "execute_result"
    },
    {
     "data": {
      "image/png": "[encoded data removed]",
      "text/plain": [
       "<Figure size 432x288 with 1 Axes>"
      ]
     },
     "metadata": {
      "needs_background": "light"
     },
     "output_type": "display_data"
    }
   ],
   "source": [
    "plt.bar(x, y, width=30, color=\"blue\", alpha=0.5, align=\"edge\",label='precipitation')\n",
    "plt.xticks([])\n",
    "plt.xlabel(\"date\")\n",
    "plt.legend(loc=1, prop={'size': 15})"
   ]
  },
  {
   "cell_type": "code",
   "execution_count": 14,
   "metadata": {},
   "outputs": [],
   "source": [
    "plt.show()\n"
   ]
  },
  {
   "cell_type": "code",
   "execution_count": 18,
   "metadata": {},
   "outputs": [
    {
     "data": {
      "text/html": [
       "<div>\n",
       "<style scoped>\n",
       "    .dataframe tbody tr th:only-of-type {\n",
       "        vertical-align: middle;\n",
       "    }\n",
       "\n",
       "    .dataframe tbody tr th {\n",
       "        vertical-align: top;\n",
       "    }\n",
       "\n",
       "    .dataframe thead th {\n",
       "        text-align: right;\n",
       "    }\n",
       "</style>\n",
       "<table border=\"1\" class=\"dataframe\">\n",
       "  <thead>\n",
       "    <tr style=\"text-align: right;\">\n",
       "      <th></th>\n",
       "      <th>prcp</th>\n",
       "    </tr>\n",
       "  </thead>\n",
       "  <tbody>\n",
       "    <tr>\n",
       "      <th>count</th>\n",
       "      <td>2223.000000</td>\n",
       "    </tr>\n",
       "    <tr>\n",
       "      <th>mean</th>\n",
       "      <td>0.159951</td>\n",
       "    </tr>\n",
       "    <tr>\n",
       "      <th>std</th>\n",
       "      <td>0.441220</td>\n",
       "    </tr>\n",
       "    <tr>\n",
       "      <th>min</th>\n",
       "      <td>0.000000</td>\n",
       "    </tr>\n",
       "    <tr>\n",
       "      <th>25%</th>\n",
       "      <td>0.000000</td>\n",
       "    </tr>\n",
       "    <tr>\n",
       "      <th>50%</th>\n",
       "      <td>0.010000</td>\n",
       "    </tr>\n",
       "    <tr>\n",
       "      <th>75%</th>\n",
       "      <td>0.110000</td>\n",
       "    </tr>\n",
       "    <tr>\n",
       "      <th>max</th>\n",
       "      <td>6.700000</td>\n",
       "    </tr>\n",
       "  </tbody>\n",
       "</table>\n",
       "</div>"
      ],
      "text/plain": [
       "              prcp\n",
       "count  2223.000000\n",
       "mean      0.159951\n",
       "std       0.441220\n",
       "min       0.000000\n",
       "25%       0.000000\n",
       "50%       0.010000\n",
       "75%       0.110000\n",
       "max       6.700000"
      ]
     },
     "execution_count": 18,
     "metadata": {},
     "output_type": "execute_result"
    }
   ],
   "source": [
    "# Use Pandas to calcualte the summary statistics for the precipitation data\n",
    "df.describe()"
   ]
  },
  {
   "cell_type": "code",
   "execution_count": 19,
   "metadata": {},
   "outputs": [
    {
     "name": "stdout",
     "output_type": "stream",
     "text": [
      "Number of station 9\n"
     ]
    }
   ],
   "source": [
    "# Design a query to show how many stations are available in this dataset?\n",
    "cur = conn.cursor()\n",
    "#obtain details of the schema/table format from table named garbage_collection\n",
    "cur.execute(\"SELECT count(distinct(station)) FROM measurement\")\n",
    "statCount = cur.fetchall()\n",
    " \n",
    "for statCt in statCount:\n",
    "    print(\"Number of station\",statCt[0])"
   ]
  },
  {
   "cell_type": "code",
   "execution_count": 20,
   "metadata": {},
   "outputs": [
    {
     "name": "stdout",
     "output_type": "stream",
     "text": [
      "[('USC00519281', 2772), ('USC00519397', 2724), ('USC00513117', 2709), ('USC00519523', 2669), ('USC00516128', 2612), ('USC00514830', 2202), ('USC00511918', 1979), ('USC00517948', 1372), ('USC00518838', 511)]\n"
     ]
    }
   ],
   "source": [
    "# What are the most active stations? (i.e. what stations have the most rows)?\n",
    "# List the stations and the counts in descending order.\n",
    "cur = conn.cursor()\n",
    "#obtain details of the schema/table format from table named garbage_collection\n",
    "cur.execute(\"SELECT measurement.station, count(measurement.tobs)FROM measurement group by measurement.station order by count(measurement.tobs) desc;\")\n",
    "statMost = cur.fetchall()\n",
    "\n",
    "for statCt in statCount:\n",
    "    print(statMost)\n"
   ]
  },
  {
   "cell_type": "code",
   "execution_count": 21,
   "metadata": {},
   "outputs": [
    {
     "name": "stdout",
     "output_type": "stream",
     "text": [
      "[(54.0, 85.0, 71.66378066378067)]\n"
     ]
    }
   ],
   "source": [
    "# Using the station id from the previous query, calculate the lowest temperature recorded, \n",
    "# highest temperature recorded, and average temperature most active station?\n",
    "cur = conn.cursor()\n",
    "#obtain details of the schema/table format from table named garbage_collection\n",
    "cur.execute(\"SELECT min(tobs), max(tobs), avg(tobs) FROM measurement WHERE station = 'USC00519281';\")\n",
    "statQuery = cur.fetchall()\n",
    "print(statQuery)\n"
   ]
  },
  {
   "cell_type": "code",
   "execution_count": 22,
   "metadata": {},
   "outputs": [
    {
     "data": {
      "text/html": [
       "<div>\n",
       "<style scoped>\n",
       "    .dataframe tbody tr th:only-of-type {\n",
       "        vertical-align: middle;\n",
       "    }\n",
       "\n",
       "    .dataframe tbody tr th {\n",
       "        vertical-align: top;\n",
       "    }\n",
       "\n",
       "    .dataframe thead th {\n",
       "        text-align: right;\n",
       "    }\n",
       "</style>\n",
       "<table border=\"1\" class=\"dataframe\">\n",
       "  <thead>\n",
       "    <tr style=\"text-align: right;\">\n",
       "      <th></th>\n",
       "      <th>tobs</th>\n",
       "    </tr>\n",
       "  </thead>\n",
       "  <tbody>\n",
       "    <tr>\n",
       "      <th>2017-01-01</th>\n",
       "      <td>72.0</td>\n",
       "    </tr>\n",
       "    <tr>\n",
       "      <th>2017-01-02</th>\n",
       "      <td>70.0</td>\n",
       "    </tr>\n",
       "    <tr>\n",
       "      <th>2017-01-03</th>\n",
       "      <td>64.0</td>\n",
       "    </tr>\n",
       "    <tr>\n",
       "      <th>2017-01-04</th>\n",
       "      <td>63.0</td>\n",
       "    </tr>\n",
       "    <tr>\n",
       "      <th>2017-01-05</th>\n",
       "      <td>63.0</td>\n",
       "    </tr>\n",
       "    <tr>\n",
       "      <th>2017-01-06</th>\n",
       "      <td>62.0</td>\n",
       "    </tr>\n",
       "    <tr>\n",
       "      <th>2017-01-07</th>\n",
       "      <td>70.0</td>\n",
       "    </tr>\n",
       "    <tr>\n",
       "      <th>2017-01-08</th>\n",
       "      <td>70.0</td>\n",
       "    </tr>\n",
       "    <tr>\n",
       "      <th>2017-01-09</th>\n",
       "      <td>62.0</td>\n",
       "    </tr>\n",
       "    <tr>\n",
       "      <th>2017-01-10</th>\n",
       "      <td>62.0</td>\n",
       "    </tr>\n",
       "  </tbody>\n",
       "</table>\n",
       "</div>"
      ],
      "text/plain": [
       "            tobs\n",
       "2017-01-01  72.0\n",
       "2017-01-02  70.0\n",
       "2017-01-03  64.0\n",
       "2017-01-04  63.0\n",
       "2017-01-05  63.0\n",
       "2017-01-06  62.0\n",
       "2017-01-07  70.0\n",
       "2017-01-08  70.0\n",
       "2017-01-09  62.0\n",
       "2017-01-10  62.0"
      ]
     },
     "execution_count": 22,
     "metadata": {},
     "output_type": "execute_result"
    }
   ],
   "source": [
    "# Choose the station with the highest number of temperature observations.\n",
    "# Query the last 12 months of temperature observation data for this station and plot the results as a histogram\n",
    "cur = conn.cursor()\n",
    "#obtain details of the schema/table format from table named garbage_collection\n",
    "cur.execute(\"SELECT date, tobs FROM measurement WHERE ((measurement.date <= '2017-12-31') and (measurement.date >= '2017-01-01')) and measurement.station = 'USC00519281' GROUP BY measurement.date\")\n",
    "#print(statHist)\n",
    "Histdata = cur.fetchall()\n",
    "dataHist = {'date': [], 'tobs': []}\n",
    "Histdf = []\n",
    "for HistData in Histdata:\n",
    "    dataHist['date'].append(HistData[0])\n",
    "    dataHist['tobs'].append(HistData[1])\n",
    "Histdf = pd.DataFrame(dataHist['tobs'], columns = ['tobs'], index = dataHist['date'])\n",
    "Histdf = Histdf.replace(np.nan, 0)\n",
    "Histdf.head(10)"
   ]
  },
  {
   "cell_type": "code",
   "execution_count": 23,
   "metadata": {},
   "outputs": [
    {
     "data": {
      "image/png": "[encoded data removed]",
      "text/plain": [
       "<Figure size 921.6x576 with 1 Axes>"
      ]
     },
     "metadata": {
      "needs_background": "light"
     },
     "output_type": "display_data"
    }
   ],
   "source": [
    "#Plot the results as a histogram \n",
    "x = Histdf['tobs']\n",
    "num_bins = 12\n",
    "# the histogram of the data\n",
    "#n, bins, patches = \n",
    "plt.figure(figsize=[12.8, 8])\n",
    "temp_plot = plt.hist(x, num_bins, facecolor='steelblue', label='tobs', alpha=0.9)\n",
    "\n",
    "plt.xlabel('Temperature Observation', fontsize=18)\n",
    "plt.ylabel('Frequency', fontsize=18)\n",
    "plt.title('Temperatures Over Last Twelve Months', fontsize=18)\n",
    "plt.tick_params(axis='y', labelsize=16)\n",
    "plt.tick_params(axis='x', labelsize=16)\n",
    "legend = plt.legend(frameon=True, edgecolor='black', fontsize='large')\n",
    "\n",
    "# Tweak spacing to prevent clipping of ylabel\n",
    "plt.subplots_adjust(left=0.15)\n",
    "plt.show()"
   ]
  },
  {
   "cell_type": "code",
   "execution_count": 24,
   "metadata": {},
   "outputs": [],
   "source": [
    "# Climate app\n",
    "# /api/v1.0/precipitation\n",
    "# Query for the dates and temperature observations from the last year\n",
    "app = Flask(__name__)\n",
    "\n",
    "@app.route('/api/v1.0/precipitation') \n",
    "def precipitation():\n",
    "    print(\"Server received request for 'Precipitation' page...\")\n",
    "    return \"Here are the dates and temperature observations from last year!\"\n",
    "\n",
    "    last_year_temp = (session\n",
    "                      .query(HI_measurements.tobs)\n",
    "                      .filter(HI_measurements.date <= '2017-08-23')\n",
    "                      .filter(HI_measurements.date >= '2016-08-23')\n",
    "                      .order_by(HI_measurements.date)\n",
    "                      .all())\n",
    "\n",
    "    # Convert the query results to a Dictionary using date as the key and tobs as the value\n",
    "    dates_and_temp = []\n",
    "    for date in last_year_temp:\n",
    "        date_dict ={}\n",
    "        date_dict['date'] = HI_measurements.date\n",
    "        date_dict['temperature'] = HI_measurements.tobs\n",
    "        dates_and_temp.append(date_dict)\n",
    "    \n",
    "# Return the json representation of your dictionary\n",
    "    return jsonify(dates_and_temp)"
   ]
  },
  {
   "cell_type": "code",
   "execution_count": 25,
   "metadata": {},
   "outputs": [],
   "source": [
    "# /api/v1.0/stations\n",
    "# Return a json list of stations from the dataset\n",
    "@app.route('/api/v1.0/stations') \n",
    "def stations():\n",
    "    print(\"Server received request for 'Stations' page...\")\n",
    "    return \"Here is the list of stations from the dataset!\"\n",
    "\n",
    "    stations_query = (session\n",
    "                      .query(HI_stations.stations)\n",
    "                      .all())\n",
    "    \n",
    "    return jsonify(stations_query)"
   ]
  },
  {
   "cell_type": "code",
   "execution_count": 26,
   "metadata": {},
   "outputs": [],
   "source": [
    "# /api/v1.0/tobs\n",
    "# Return a json list of Temperature Observations (tobs) for the previous year\n",
    "@app.route('/api/v1.0/tobs') \n",
    "def tobs():\n",
    "    print(\"Server received request for 'Temperature Observations' page...\")\n",
    "    return \"Here is the list of Temperature Observations (tobs) for the previous year!\"\n",
    "    \n",
    "    tobs_last_year = (session\n",
    "                      .query(HI_measurements.tobs)\n",
    "                      .filter(HI_measurements.date <= '2017-08-23')\n",
    "                      .filter(HI_measurements.date >= '2016-08-23')\n",
    "                      .order_by(HI_measurements.tobs)\n",
    "                      .all())\n",
    "    \n",
    "    return jsonify(tobs_last_year)"
   ]
  },
  {
   "cell_type": "code",
   "execution_count": 27,
   "metadata": {},
   "outputs": [],
   "source": [
    "# /api/v1.0/<start> and /api/v1.0/<start>/<end>\n",
    "# Return a json list of the minimum temperature, the average temperature, and \n",
    "# the max temperature for a given start or start-end range.\n",
    "@app.route('/api/v1.0/<start>)') \n",
    "def tobs_start():\n",
    "    print(\"Server received request for 'Min Temp, Avg Temp, Max Temp of a given start' page...\")\n",
    "    return \"Here is the list of Temperature information for the a given date!\"\n",
    "    \n",
    "    start = HI_measurements.date <= '2010-01-01'\n",
    "    end = HI_measurements.date >= '2017-08-23'\n",
    "\n",
    "    # When given the start only, calculate TMIN, TAVG, and TMAX for all dates greater \n",
    "    # than and equal to the start date\n",
    "    tobs_start_only = (session\n",
    "                       .query(HI_measurements.tobs)\n",
    "                       .filter(HI_measurements.date.between(start, '2017-08-23'))\n",
    "                       .all())\n",
    "    \n",
    "    tso_df = pd.DataFrame(tobs_start_only)\n",
    "    \n",
    "    tmin = tso_df.min()\n",
    "    tmax = tso_df.max()\n",
    "    tavg = tso_df.avg()\n",
    "    \n",
    "    return jsonify(tmin, tmax, tavg)\n",
    "\n",
    "@app.route('/api/v1.0/<start>/<end>') \n",
    "def tobs_given_range():\n",
    "    \n",
    "    print(\"Server received request for 'Min Temp, Avg Temp, Max Temp of a given start or date range' page...\")\n",
    "    return \"Here is the list of Temperature information for the a given date range!\"\n",
    "    \n",
    "    # When given the start and the end date, calculate the TMIN, TAVG, and TMAX for dates between the start \n",
    "    # and end date inclusive.\n",
    "    tobs_given_range = (session\n",
    "                        .query(HI_measurements.tobs)\n",
    "                        .filter(HI_measurements.date.between(start, end))\n",
    "                        .all())\n",
    "    \n",
    "    # Convert to Dataframe to calculate TMIN, TAVG, TMAX\n",
    "    tgr_df = pd.DataFrame(tobs_given_range)\n",
    "    \n",
    "    t2min = tgr_df.min()\n",
    "    t2max = tgr_df.max()\n",
    "    t2avg = tgr_df.avg()\n",
    "    \n",
    "    return jsonify(t2min, t2max, t2avg)"
   ]
  },
  {
   "cell_type": "code",
   "execution_count": 28,
   "metadata": {},
   "outputs": [
    {
     "data": {
      "text/html": [
       "<div>\n",
       "<style scoped>\n",
       "    .dataframe tbody tr th:only-of-type {\n",
       "        vertical-align: middle;\n",
       "    }\n",
       "\n",
       "    .dataframe tbody tr th {\n",
       "        vertical-align: top;\n",
       "    }\n",
       "\n",
       "    .dataframe thead th {\n",
       "        text-align: right;\n",
       "    }\n",
       "</style>\n",
       "<table border=\"1\" class=\"dataframe\">\n",
       "  <thead>\n",
       "    <tr style=\"text-align: right;\">\n",
       "      <th></th>\n",
       "      <th>date</th>\n",
       "      <th>TMIN</th>\n",
       "      <th>TAVG</th>\n",
       "      <th>TMAX</th>\n",
       "    </tr>\n",
       "  </thead>\n",
       "  <tbody>\n",
       "    <tr>\n",
       "      <th>0</th>\n",
       "      <td>2017-05-01</td>\n",
       "      <td>65.0</td>\n",
       "      <td>72.000000</td>\n",
       "      <td>78.0</td>\n",
       "    </tr>\n",
       "    <tr>\n",
       "      <th>1</th>\n",
       "      <td>2017-05-02</td>\n",
       "      <td>73.0</td>\n",
       "      <td>76.500000</td>\n",
       "      <td>79.0</td>\n",
       "    </tr>\n",
       "    <tr>\n",
       "      <th>2</th>\n",
       "      <td>2017-05-03</td>\n",
       "      <td>70.0</td>\n",
       "      <td>75.600000</td>\n",
       "      <td>78.0</td>\n",
       "    </tr>\n",
       "    <tr>\n",
       "      <th>3</th>\n",
       "      <td>2017-05-04</td>\n",
       "      <td>74.0</td>\n",
       "      <td>76.333333</td>\n",
       "      <td>78.0</td>\n",
       "    </tr>\n",
       "    <tr>\n",
       "      <th>4</th>\n",
       "      <td>2017-05-05</td>\n",
       "      <td>70.0</td>\n",
       "      <td>76.333333</td>\n",
       "      <td>79.0</td>\n",
       "    </tr>\n",
       "    <tr>\n",
       "      <th>5</th>\n",
       "      <td>2017-05-06</td>\n",
       "      <td>74.0</td>\n",
       "      <td>77.500000</td>\n",
       "      <td>80.0</td>\n",
       "    </tr>\n",
       "    <tr>\n",
       "      <th>6</th>\n",
       "      <td>2017-05-07</td>\n",
       "      <td>70.0</td>\n",
       "      <td>75.400000</td>\n",
       "      <td>79.0</td>\n",
       "    </tr>\n",
       "    <tr>\n",
       "      <th>7</th>\n",
       "      <td>2017-05-08</td>\n",
       "      <td>66.0</td>\n",
       "      <td>72.833333</td>\n",
       "      <td>80.0</td>\n",
       "    </tr>\n",
       "    <tr>\n",
       "      <th>8</th>\n",
       "      <td>2017-05-09</td>\n",
       "      <td>67.0</td>\n",
       "      <td>73.400000</td>\n",
       "      <td>79.0</td>\n",
       "    </tr>\n",
       "    <tr>\n",
       "      <th>9</th>\n",
       "      <td>2017-05-10</td>\n",
       "      <td>72.0</td>\n",
       "      <td>75.166667</td>\n",
       "      <td>78.0</td>\n",
       "    </tr>\n",
       "  </tbody>\n",
       "</table>\n",
       "</div>"
      ],
      "text/plain": [
       "         date  TMIN       TAVG  TMAX\n",
       "0  2017-05-01  65.0  72.000000  78.0\n",
       "1  2017-05-02  73.0  76.500000  79.0\n",
       "2  2017-05-03  70.0  75.600000  78.0\n",
       "3  2017-05-04  74.0  76.333333  78.0\n",
       "4  2017-05-05  70.0  76.333333  79.0\n",
       "5  2017-05-06  74.0  77.500000  80.0\n",
       "6  2017-05-07  70.0  75.400000  79.0\n",
       "7  2017-05-08  66.0  72.833333  80.0\n",
       "8  2017-05-09  67.0  73.400000  79.0\n",
       "9  2017-05-10  72.0  75.166667  78.0"
      ]
     },
     "execution_count": 28,
     "metadata": {},
     "output_type": "execute_result"
    }
   ],
   "source": [
    "# This function called `calc_temps` will accept start date and end date in the format '%Y-%m-%d' \n",
    "# and return the minimum, average, and maximum temperatures for that range of dates\n",
    "#def calc_temps(start_date, end_date):\n",
    "#TMIN, TAVE, and TMAX\n",
    "cur2 = conn.cursor()\n",
    "Statdf = []\n",
    "#obtain details of the schema/table format from table named garbage_collection\n",
    "#Statdf = pd.read_sql_query(\"SELECT date(measurement.date,'YYYY-MM-DD'), min(measurement.tobs), avg(measurement.tobs), max(measurement.tobs) FROM measurement WHERE date(measurement.date,'YYYY-MM-DD') >= '2012-02-28' and date(measurement.date,'YYYY-MM-DD') <= '2012-03-05' group by(measurement.date);\",conn)\n",
    "cur2.execute(\"SELECT measurement.date, min(measurement.tobs), avg(measurement.tobs), max(measurement.tobs) FROM measurement WHERE measurement.date >= '2017-05-01' and measurement.date <= '2017-05-15' group by(measurement.date);\")\n",
    "dataSt = {'date': [], 'TMIN': [], 'TAVG': [],'TMAX': []}\n",
    "#Sta\n",
    "Statdata2 = cur2.fetchall() \n",
    "\n",
    "for statDt2 in Statdata2:\n",
    "    dataSt['date'].append(statDt2[0])\n",
    "    dataSt['TMIN'].append(statDt2[1])\n",
    "    dataSt['TAVG'].append(statDt2[2])\n",
    "    dataSt['TMAX'].append(statDt2[3])\n",
    "    #print(statDt2)\n",
    "#print(dataSt['TMAX'].max())\n",
    "    #dataSt['TMAX'].append(statData[3])\n",
    "#print(statData[])\n",
    "Statdf = pd.DataFrame(dataSt)\n",
    "Statdf.head(10)\n",
    "#Statdf.max()\n",
    "#Statdf['TMAX'].min()"
   ]
  },
  {
   "cell_type": "code",
   "execution_count": 111,
   "metadata": {},
   "outputs": [],
   "source": [
    "# Use your previous function `calc_temps` to calculate the tmin, tavg, and\n",
    "# for your trip using the previous year's data for those same dates.\n"
   ]
  },
  {
   "cell_type": "code",
   "execution_count": 29,
   "metadata": {},
   "outputs": [
    {
     "data": {
      "text/plain": [
       "75.23111111111112"
      ]
     },
     "execution_count": 29,
     "metadata": {},
     "output_type": "execute_result"
    }
   ],
   "source": [
    "# Plot the results from your previous query as a bar chart. \n",
    "# Use \"Trip Avg Temp\" as your Title\n",
    "# Use the average temperature for the y value\n",
    "# Use the peak-to-peak (tmax-tmin) value as the y error bar (yerr)\n",
    "\n",
    "totalavg = Statdf['TAVG'].mean()\n",
    "totalavg"
   ]
  },
  {
   "cell_type": "code",
   "execution_count": 30,
   "metadata": {},
   "outputs": [
    {
     "data": {
      "image/png": "[encoded data removed]",
      "text/plain": [
       "<Figure size 216x432 with 1 Axes>"
      ]
     },
     "metadata": {
      "needs_background": "light"
     },
     "output_type": "display_data"
    }
   ],
   "source": [
    "#Plot the total Avg Temp for My Trip\n",
    "plt.figure(figsize=[3, 6])\n",
    "\n",
    "totalavg_plt = plt.bar('2017-05', totalavg, yerr=15, color='sandybrown', alpha=.5, label='Error bar is Min to Max Temp')\n",
    "#pmax = plt.bar(p3_date, p3_tmax)\n",
    "\n",
    "plt.ylabel('Temp (F)', fontsize=12)\n",
    "plt.xlabel('1st - 15th')\n",
    "plt.title('Trip Avg Temp', fontsize=14)\n",
    "plt.legend()\n",
    "plt.xticks(fontsize=13)\n",
    "plt.yticks(np.arange(0, 120, 20), fontsize=12)\n",
    "\n",
    "plt.show()"
   ]
  },
  {
   "cell_type": "code",
   "execution_count": 31,
   "metadata": {},
   "outputs": [],
   "source": [
    "# Calculate the total amount of rainfall per weather station for your trip dates using the previous year's matching dates.\n",
    "# Sort this in descending order by precipitation amount and list the station, name, latitude, longitude, and elevation\n",
    "\n"
   ]
  },
  {
   "cell_type": "markdown",
   "metadata": {},
   "source": [
    "## Optional Challenge Assignment"
   ]
  },
  {
   "cell_type": "code",
   "execution_count": 32,
   "metadata": {
    "scrolled": true
   },
   "outputs": [
    {
     "data": {
      "text/html": [
       "<div>\n",
       "<style scoped>\n",
       "    .dataframe tbody tr th:only-of-type {\n",
       "        vertical-align: middle;\n",
       "    }\n",
       "\n",
       "    .dataframe tbody tr th {\n",
       "        vertical-align: top;\n",
       "    }\n",
       "\n",
       "    .dataframe thead th {\n",
       "        text-align: right;\n",
       "    }\n",
       "</style>\n",
       "<table border=\"1\" class=\"dataframe\">\n",
       "  <thead>\n",
       "    <tr style=\"text-align: right;\">\n",
       "      <th></th>\n",
       "      <th>station</th>\n",
       "      <th>name</th>\n",
       "      <th>latitude</th>\n",
       "      <th>longitude</th>\n",
       "      <th>elevation</th>\n",
       "      <th>prcp</th>\n",
       "    </tr>\n",
       "  </thead>\n",
       "  <tbody>\n",
       "    <tr>\n",
       "      <th>0</th>\n",
       "      <td>USC00516128</td>\n",
       "      <td>MANOA LYON ARBO 785.2, HI US</td>\n",
       "      <td>21.33310</td>\n",
       "      <td>-157.80250</td>\n",
       "      <td>152.4</td>\n",
       "      <td>0.10</td>\n",
       "    </tr>\n",
       "    <tr>\n",
       "      <th>1</th>\n",
       "      <td>USC00519281</td>\n",
       "      <td>WAIHEE 837.5, HI US</td>\n",
       "      <td>21.45167</td>\n",
       "      <td>-157.84889</td>\n",
       "      <td>32.9</td>\n",
       "      <td>0.08</td>\n",
       "    </tr>\n",
       "    <tr>\n",
       "      <th>2</th>\n",
       "      <td>USC00513117</td>\n",
       "      <td>KANEOHE 838.1, HI US</td>\n",
       "      <td>21.42340</td>\n",
       "      <td>-157.80150</td>\n",
       "      <td>14.6</td>\n",
       "      <td>0.06</td>\n",
       "    </tr>\n",
       "    <tr>\n",
       "      <th>3</th>\n",
       "      <td>USC00519397</td>\n",
       "      <td>WAIKIKI 717.2, HI US</td>\n",
       "      <td>21.27160</td>\n",
       "      <td>-157.81680</td>\n",
       "      <td>3.0</td>\n",
       "      <td>0.02</td>\n",
       "    </tr>\n",
       "    <tr>\n",
       "      <th>4</th>\n",
       "      <td>USC00514830</td>\n",
       "      <td>KUALOA RANCH HEADQUARTERS 886.9, HI US</td>\n",
       "      <td>21.52130</td>\n",
       "      <td>-157.83740</td>\n",
       "      <td>7.0</td>\n",
       "      <td>NaN</td>\n",
       "    </tr>\n",
       "    <tr>\n",
       "      <th>5</th>\n",
       "      <td>USC00517948</td>\n",
       "      <td>PEARL CITY, HI US</td>\n",
       "      <td>21.39340</td>\n",
       "      <td>-157.97510</td>\n",
       "      <td>11.9</td>\n",
       "      <td>NaN</td>\n",
       "    </tr>\n",
       "    <tr>\n",
       "      <th>6</th>\n",
       "      <td>USC00519523</td>\n",
       "      <td>WAIMANALO EXPERIMENTAL FARM, HI US</td>\n",
       "      <td>21.33556</td>\n",
       "      <td>-157.71139</td>\n",
       "      <td>19.5</td>\n",
       "      <td>NaN</td>\n",
       "    </tr>\n",
       "  </tbody>\n",
       "</table>\n",
       "</div>"
      ],
      "text/plain": [
       "       station                                    name  latitude  longitude  \\\n",
       "0  USC00516128            MANOA LYON ARBO 785.2, HI US  21.33310 -157.80250   \n",
       "1  USC00519281                     WAIHEE 837.5, HI US  21.45167 -157.84889   \n",
       "2  USC00513117                    KANEOHE 838.1, HI US  21.42340 -157.80150   \n",
       "3  USC00519397                    WAIKIKI 717.2, HI US  21.27160 -157.81680   \n",
       "4  USC00514830  KUALOA RANCH HEADQUARTERS 886.9, HI US  21.52130 -157.83740   \n",
       "5  USC00517948                       PEARL CITY, HI US  21.39340 -157.97510   \n",
       "6  USC00519523      WAIMANALO EXPERIMENTAL FARM, HI US  21.33556 -157.71139   \n",
       "\n",
       "   elevation  prcp  \n",
       "0      152.4  0.10  \n",
       "1       32.9  0.08  \n",
       "2       14.6  0.06  \n",
       "3        3.0  0.02  \n",
       "4        7.0   NaN  \n",
       "5       11.9   NaN  \n",
       "6       19.5   NaN  "
      ]
     },
     "execution_count": 32,
     "metadata": {},
     "output_type": "execute_result"
    }
   ],
   "source": [
    "cur = conn.cursor()\n",
    "start_date = '2017-07-01'\n",
    "end_date ='2017-07-14'\n",
    "\n",
    "# Create a query that will calculate the daily normals \n",
    "# (i.e. the averages for tmin, tmax, and tavg for all historic data matching a specific month and day)\n",
    "\n",
    "def precipitation(date1,date2):\n",
    "      sql = \"SELECT measurement.station, station.name, station.latitude, station.longitude, station.elevation, measurement.prcp FROM measurement, station WHERE measurement.station = station.station and measurement.date >= '%s' and measurement.date <= '%s' group by(measurement.station) order by(Measurement.prcp) desc \" % (date1, date2)\n",
    "      return sql\n",
    "\n",
    "sqlquery = precipitation(start_date,end_date)\n",
    "#print sqlquery. \n",
    "\n",
    "df=pd.read_sql(sqlquery,conn)\n",
    "df\n",
    "\n"
   ]
  },
  {
   "cell_type": "code",
   "execution_count": 33,
   "metadata": {},
   "outputs": [
    {
     "data": {
      "text/html": [
       "<div>\n",
       "<style scoped>\n",
       "    .dataframe tbody tr th:only-of-type {\n",
       "        vertical-align: middle;\n",
       "    }\n",
       "\n",
       "    .dataframe tbody tr th {\n",
       "        vertical-align: top;\n",
       "    }\n",
       "\n",
       "    .dataframe thead th {\n",
       "        text-align: right;\n",
       "    }\n",
       "</style>\n",
       "<table border=\"1\" class=\"dataframe\">\n",
       "  <thead>\n",
       "    <tr style=\"text-align: right;\">\n",
       "      <th></th>\n",
       "      <th>Min</th>\n",
       "      <th>Avg</th>\n",
       "      <th>Max</th>\n",
       "    </tr>\n",
       "    <tr>\n",
       "      <th>Date</th>\n",
       "      <th></th>\n",
       "      <th></th>\n",
       "      <th></th>\n",
       "    </tr>\n",
       "  </thead>\n",
       "  <tbody>\n",
       "    <tr>\n",
       "      <th>2017-07-01</th>\n",
       "      <td>74.0</td>\n",
       "      <td>77.250000</td>\n",
       "      <td>80.0</td>\n",
       "    </tr>\n",
       "    <tr>\n",
       "      <th>2017-07-02</th>\n",
       "      <td>77.0</td>\n",
       "      <td>79.200000</td>\n",
       "      <td>81.0</td>\n",
       "    </tr>\n",
       "    <tr>\n",
       "      <th>2017-07-03</th>\n",
       "      <td>76.0</td>\n",
       "      <td>79.571429</td>\n",
       "      <td>87.0</td>\n",
       "    </tr>\n",
       "    <tr>\n",
       "      <th>2017-07-04</th>\n",
       "      <td>77.0</td>\n",
       "      <td>78.000000</td>\n",
       "      <td>80.0</td>\n",
       "    </tr>\n",
       "    <tr>\n",
       "      <th>2017-07-05</th>\n",
       "      <td>75.0</td>\n",
       "      <td>78.571429</td>\n",
       "      <td>81.0</td>\n",
       "    </tr>\n",
       "    <tr>\n",
       "      <th>2017-07-06</th>\n",
       "      <td>74.0</td>\n",
       "      <td>77.166667</td>\n",
       "      <td>81.0</td>\n",
       "    </tr>\n",
       "    <tr>\n",
       "      <th>2017-07-07</th>\n",
       "      <td>74.0</td>\n",
       "      <td>77.142857</td>\n",
       "      <td>79.0</td>\n",
       "    </tr>\n",
       "    <tr>\n",
       "      <th>2017-07-08</th>\n",
       "      <td>71.0</td>\n",
       "      <td>77.166667</td>\n",
       "      <td>81.0</td>\n",
       "    </tr>\n",
       "    <tr>\n",
       "      <th>2017-07-09</th>\n",
       "      <td>76.0</td>\n",
       "      <td>79.333333</td>\n",
       "      <td>82.0</td>\n",
       "    </tr>\n",
       "    <tr>\n",
       "      <th>2017-07-10</th>\n",
       "      <td>69.0</td>\n",
       "      <td>77.857143</td>\n",
       "      <td>82.0</td>\n",
       "    </tr>\n",
       "    <tr>\n",
       "      <th>2017-07-11</th>\n",
       "      <td>72.0</td>\n",
       "      <td>77.000000</td>\n",
       "      <td>81.0</td>\n",
       "    </tr>\n",
       "    <tr>\n",
       "      <th>2017-07-12</th>\n",
       "      <td>72.0</td>\n",
       "      <td>78.285714</td>\n",
       "      <td>82.0</td>\n",
       "    </tr>\n",
       "    <tr>\n",
       "      <th>2017-07-13</th>\n",
       "      <td>74.0</td>\n",
       "      <td>78.142857</td>\n",
       "      <td>81.0</td>\n",
       "    </tr>\n",
       "    <tr>\n",
       "      <th>2017-07-14</th>\n",
       "      <td>76.0</td>\n",
       "      <td>78.833333</td>\n",
       "      <td>81.0</td>\n",
       "    </tr>\n",
       "  </tbody>\n",
       "</table>\n",
       "</div>"
      ],
      "text/plain": [
       "             Min        Avg   Max\n",
       "Date                             \n",
       "2017-07-01  74.0  77.250000  80.0\n",
       "2017-07-02  77.0  79.200000  81.0\n",
       "2017-07-03  76.0  79.571429  87.0\n",
       "2017-07-04  77.0  78.000000  80.0\n",
       "2017-07-05  75.0  78.571429  81.0\n",
       "2017-07-06  74.0  77.166667  81.0\n",
       "2017-07-07  74.0  77.142857  79.0\n",
       "2017-07-08  71.0  77.166667  81.0\n",
       "2017-07-09  76.0  79.333333  82.0\n",
       "2017-07-10  69.0  77.857143  82.0\n",
       "2017-07-11  72.0  77.000000  81.0\n",
       "2017-07-12  72.0  78.285714  82.0\n",
       "2017-07-13  74.0  78.142857  81.0\n",
       "2017-07-14  76.0  78.833333  81.0"
      ]
     },
     "execution_count": 33,
     "metadata": {},
     "output_type": "execute_result"
    }
   ],
   "source": [
    "cur3 = conn.cursor()\n",
    "df1 = []\n",
    "temperatures = []\n",
    "dates_range = pd.date_range('2017-07-01', '2017-07-14')\n",
    "\n",
    "for date1 in dates_range.strftime('%Y-%m-%d'):\n",
    "    #print(date1)\n",
    "    cur3.execute(\"SELECT min(measurement.tobs), avg(measurement.tobs), max(measurement.tobs) FROM measurement WHERE date(measurement.date) = '%s';\" % (date1))\n",
    "    #print(sql)\n",
    "    df1 = cur3.fetchall()\n",
    "    temperatures.append(*df1)\n",
    "df = pd.DataFrame(temperatures, columns=['Min', 'Avg', 'Max'])\n",
    "df['Date'] = dates_range\n",
    "df.set_index('Date',inplace=True)\n",
    "df\n",
    "\n",
    "\n",
    "\n",
    "\n"
   ]
  },
  {
   "cell_type": "code",
   "execution_count": 34,
   "metadata": {},
   "outputs": [
    {
     "data": {
      "image/png": "[encoded data removed]",
      "text/plain": [
       "<Figure size 432x288 with 1 Axes>"
      ]
     },
     "metadata": {
      "needs_background": "light"
     },
     "output_type": "display_data"
    }
   ],
   "source": [
    "# Load the previous query results into a Pandas DataFrame and add the `trip_dates` range as the `date` index\n",
    "df.plot(kind='area', alpha=.2, stacked=False, x_compat=True, title=\"Aggregate Daily Normals for Trip Dates\")\n",
    "plt.tight_layout()\n",
    "plt.savefig(\"DailyNormals.png\")\n",
    "plt.show()"
   ]
  },
  {
   "cell_type": "code",
   "execution_count": 118,
   "metadata": {},
   "outputs": [],
   "source": [
    "# Plot the daily normals as an area plot with `stacked=False`\n"
   ]
  }
 ],
 "metadata": {
  "kernel_info": {
   "name": "python3"
  },
  "kernelspec": {
   "display_name": "Python 3",
   "language": "python",
   "name": "python3"
  },
  "language_info": {
   "codemirror_mode": {
    "name": "ipython",
    "version": 3
   },
   "file_extension": ".py",
   "mimetype": "text/x-python",
   "name": "python",
   "nbconvert_exporter": "python",
   "pygments_lexer": "ipython3",
   "version": "3.7.1"
  },
  "nteract": {
   "version": "0.12.3"
  },
  "varInspector": {
   "cols": {
    "lenName": 16,
    "lenType": 16,
    "lenVar": 40
   },
   "kernels_config": {
    "python": {
     "delete_cmd_postfix": "",
     "delete_cmd_prefix": "del ",
     "library": "var_list.py",
     "varRefreshCmd": "print(var_dic_list())"
    },
    "r": {
     "delete_cmd_postfix": ") ",
     "delete_cmd_prefix": "rm(",
     "library": "var_list.r",
     "varRefreshCmd": "cat(var_dic_list()) "
    }
   },
   "types_to_exclude": [
    "module",
    "function",
    "builtin_function_or_method",
    "instance",
    "_Feature"
   ],
   "window_display": false
  }
 },
 "nbformat": 4,
 "nbformat_minor": 2
}
